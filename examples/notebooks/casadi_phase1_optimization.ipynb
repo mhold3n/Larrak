{
  "cells": [
    {
      "cell_type": "markdown",
      "metadata": {},
      "source": [
        "# CasADi Phase 1 Optimization Tutorial\n",
        "\n",
        "This notebook demonstrates the CasADi-based Phase 1 motion law optimization with thermal efficiency objectives.\n",
        "\n",
        "## Learning Objectives\n",
        "\n",
        "1. Understand CasADi Opti stack setup\n",
        "2. Implement direct collocation for motion law optimization\n",
        "3. Add thermal efficiency objectives from FPE literature\n",
        "4. Use warm-starting for faster convergence\n",
        "5. Visualize optimization results\n",
        "6. Compare with Phase 1 old implementation\n"
      ]
    },
    {
      "cell_type": "markdown",
      "metadata": {},
      "source": [
        "## 1. Setup and Imports\n"
      ]
    },
    {
      "cell_type": "code",
      "execution_count": null,
      "metadata": {},
      "outputs": [],
      "source": [
        "import numpy as np\n",
        "import matplotlib.pyplot as plt\n",
        "import time\n",
        "from pathlib import Path\n",
        "\n",
        "# Add project root to path\n",
        "import sys\n",
        "sys.path.append('../../')\n",
        "\n",
        "# Import CasADi optimization components\n",
        "from campro.optimization.casadi_motion_optimizer import CasADiMotionOptimizer, CasADiMotionProblem\n",
        "from campro.optimization.warmstart_manager import WarmStartManager\n",
        "from campro.physics.thermal_efficiency_simple import SimplifiedThermalModel\n",
        "from campro.optimization.casadi_unified_flow import CasADiUnifiedFlow\n",
        "from campro.optimization.casadi_problem_spec import (\n",
        "    create_default_problem, \n",
        "    create_high_efficiency_problem,\n",
        "    create_smooth_motion_problem\n",
        ")\n",
        "\n",
        "# Set up plotting\n",
        "plt.style.use('seaborn-v0_8')\n",
        "plt.rcParams['figure.figsize'] = (12, 8)\n",
        "plt.rcParams['font.size'] = 12\n"
      ]
    }
  ],
  "metadata": {
    "language_info": {
      "name": "python"
    }
  },
  "nbformat": 4,
  "nbformat_minor": 2
}
