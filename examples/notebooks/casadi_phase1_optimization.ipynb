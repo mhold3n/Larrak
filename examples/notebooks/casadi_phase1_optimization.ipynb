{
 "cells": [
  {
   "cell_type": "markdown",
   "metadata": {},
   "source": [
    "# CasADi Phase 1 Optimization Tutorial\n",
    "\n",
    "This notebook demonstrates the CasADi-based Phase 1 motion law optimization with thermal efficiency objectives.\n",
    "\n",
    "## Learning Objectives\n",
    "\n",
    "1. Understand CasADi Opti stack setup\n",
    "2. Implement direct collocation for motion law optimization\n",
    "3. Add thermal efficiency objectives from FPE literature\n",
    "4. Use warm-starting for faster convergence\n",
    "5. Visualize optimization results\n",
    "6. Compare with Phase 1 old implementation\n"
   ]
  },
  {
   "cell_type": "markdown",
   "metadata": {},
   "source": [
    "## 1. Setup and Imports\n"
   ]
  },
  {
   "cell_type": "code",
   "execution_count": null,
   "metadata": {},
   "outputs": [],
   "source": [
    "# Add project root to path\n",
    "import sys\n",
    "\n",
    "import matplotlib.pyplot as plt\n",
    "\n",
    "sys.path.append(\"../../\")\n",
    "\n",
    "# Import CasADi optimization components\n",
    "\n",
    "# Set up plotting\n",
    "plt.style.use(\"seaborn-v0_8\")\n",
    "plt.rcParams[\"figure.figsize\"] = (12, 8)\n",
    "plt.rcParams[\"font.size\"] = 12"
   ]
  }
 ],
 "metadata": {
  "language_info": {
   "name": "python"
  }
 },
 "nbformat": 4,
 "nbformat_minor": 2
}
